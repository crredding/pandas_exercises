{
 "cells": [
  {
   "cell_type": "markdown",
   "metadata": {},
   "source": [
    "# United States - Crime Rates - 1960 - 2014"
   ]
  },
  {
   "cell_type": "markdown",
   "metadata": {},
   "source": [
    "### Introduction:\n",
    "\n",
    "This time you will create a data \n",
    "\n",
    "Special thanks to: https://github.com/justmarkham for sharing the dataset and materials.\n",
    "\n",
    "### Step 1. Import the necessary libraries"
   ]
  },
  {
   "cell_type": "code",
   "execution_count": 17,
   "metadata": {
    "collapsed": true
   },
   "outputs": [],
   "source": [
    "import pandas as pd\n",
    "import numpy as np"
   ]
  },
  {
   "cell_type": "markdown",
   "metadata": {},
   "source": [
    "### Step 2. Import the dataset from this [address](https://raw.githubusercontent.com/guipsamora/pandas_exercises/master/04_Apply/US_Crime_Rates/US_Crime_Rates_1960_2014.csv). "
   ]
  },
  {
   "cell_type": "markdown",
   "metadata": {},
   "source": [
    "### Step 3. Assign it to a variable called crime."
   ]
  },
  {
   "cell_type": "code",
   "execution_count": 18,
   "metadata": {},
   "outputs": [],
   "source": [
    "crime = pd.read_csv('https://raw.githubusercontent.com/guipsamora/pandas_exercises/master/04_Apply/US_Crime_Rates/US_Crime_Rates_1960_2014.csv')"
   ]
  },
  {
   "cell_type": "markdown",
   "metadata": {},
   "source": [
    "### Step 4. What is the type of the columns?"
   ]
  },
  {
   "cell_type": "code",
   "execution_count": 19,
   "metadata": {},
   "outputs": [
    {
     "name": "stdout",
     "output_type": "stream",
     "text": [
      "<class 'pandas.core.frame.DataFrame'>\n",
      "RangeIndex: 55 entries, 0 to 54\n",
      "Data columns (total 12 columns):\n",
      "Year                  55 non-null int64\n",
      "Population            55 non-null int64\n",
      "Total                 55 non-null int64\n",
      "Violent               55 non-null int64\n",
      "Property              55 non-null int64\n",
      "Murder                55 non-null int64\n",
      "Forcible_Rape         55 non-null int64\n",
      "Robbery               55 non-null int64\n",
      "Aggravated_assault    55 non-null int64\n",
      "Burglary              55 non-null int64\n",
      "Larceny_Theft         55 non-null int64\n",
      "Vehicle_Theft         55 non-null int64\n",
      "dtypes: int64(12)\n",
      "memory usage: 5.2 KB\n"
     ]
    }
   ],
   "source": [
    "crime.info()"
   ]
  },
  {
   "cell_type": "markdown",
   "metadata": {},
   "source": [
    "##### Have you noticed that the type of Year is int64. But pandas has a different type to work with Time Series. Let's see it now.\n",
    "\n",
    "### Step 5. Convert the type of the column Year to datetime64"
   ]
  },
  {
   "cell_type": "code",
   "execution_count": 20,
   "metadata": {},
   "outputs": [],
   "source": [
    "crime['Year'] = pd.to_datetime(crime['Year'], format='%Y')"
   ]
  },
  {
   "cell_type": "markdown",
   "metadata": {},
   "source": [
    "### Step 6. Set the Year column as the index of the dataframe"
   ]
  },
  {
   "cell_type": "code",
   "execution_count": 21,
   "metadata": {},
   "outputs": [],
   "source": [
    "crime = crime.set_index(['Year'])"
   ]
  },
  {
   "cell_type": "markdown",
   "metadata": {},
   "source": [
    "### Step 7. Delete the Total column"
   ]
  },
  {
   "cell_type": "code",
   "execution_count": 22,
   "metadata": {},
   "outputs": [],
   "source": [
    "crime = crime.drop(['Total'], axis=1)"
   ]
  },
  {
   "cell_type": "code",
   "execution_count": 23,
   "metadata": {},
   "outputs": [
    {
     "data": {
      "text/html": [
       "<div>\n",
       "<style scoped>\n",
       "    .dataframe tbody tr th:only-of-type {\n",
       "        vertical-align: middle;\n",
       "    }\n",
       "\n",
       "    .dataframe tbody tr th {\n",
       "        vertical-align: top;\n",
       "    }\n",
       "\n",
       "    .dataframe thead th {\n",
       "        text-align: right;\n",
       "    }\n",
       "</style>\n",
       "<table border=\"1\" class=\"dataframe\">\n",
       "  <thead>\n",
       "    <tr style=\"text-align: right;\">\n",
       "      <th></th>\n",
       "      <th>Population</th>\n",
       "      <th>Violent</th>\n",
       "      <th>Property</th>\n",
       "      <th>Murder</th>\n",
       "      <th>Forcible_Rape</th>\n",
       "      <th>Robbery</th>\n",
       "      <th>Aggravated_assault</th>\n",
       "      <th>Burglary</th>\n",
       "      <th>Larceny_Theft</th>\n",
       "      <th>Vehicle_Theft</th>\n",
       "    </tr>\n",
       "    <tr>\n",
       "      <th>Year</th>\n",
       "      <th></th>\n",
       "      <th></th>\n",
       "      <th></th>\n",
       "      <th></th>\n",
       "      <th></th>\n",
       "      <th></th>\n",
       "      <th></th>\n",
       "      <th></th>\n",
       "      <th></th>\n",
       "      <th></th>\n",
       "    </tr>\n",
       "  </thead>\n",
       "  <tbody>\n",
       "    <tr>\n",
       "      <th>1960-01-01</th>\n",
       "      <td>179323175</td>\n",
       "      <td>288460</td>\n",
       "      <td>3095700</td>\n",
       "      <td>9110</td>\n",
       "      <td>17190</td>\n",
       "      <td>107840</td>\n",
       "      <td>154320</td>\n",
       "      <td>912100</td>\n",
       "      <td>1855400</td>\n",
       "      <td>328200</td>\n",
       "    </tr>\n",
       "    <tr>\n",
       "      <th>1961-01-01</th>\n",
       "      <td>182992000</td>\n",
       "      <td>289390</td>\n",
       "      <td>3198600</td>\n",
       "      <td>8740</td>\n",
       "      <td>17220</td>\n",
       "      <td>106670</td>\n",
       "      <td>156760</td>\n",
       "      <td>949600</td>\n",
       "      <td>1913000</td>\n",
       "      <td>336000</td>\n",
       "    </tr>\n",
       "  </tbody>\n",
       "</table>\n",
       "</div>"
      ],
      "text/plain": [
       "            Population  Violent  Property  Murder  Forcible_Rape  Robbery  \\\n",
       "Year                                                                        \n",
       "1960-01-01   179323175   288460   3095700    9110          17190   107840   \n",
       "1961-01-01   182992000   289390   3198600    8740          17220   106670   \n",
       "\n",
       "            Aggravated_assault  Burglary  Larceny_Theft  Vehicle_Theft  \n",
       "Year                                                                    \n",
       "1960-01-01              154320    912100        1855400         328200  \n",
       "1961-01-01              156760    949600        1913000         336000  "
      ]
     },
     "execution_count": 23,
     "metadata": {},
     "output_type": "execute_result"
    }
   ],
   "source": [
    "crime.head(2)"
   ]
  },
  {
   "cell_type": "markdown",
   "metadata": {},
   "source": [
    "### Step 8. Group the year by decades and sum the values\n",
    "\n",
    "#### Pay attention to the Population column number, summing this column is a mistake"
   ]
  },
  {
   "cell_type": "code",
   "execution_count": 29,
   "metadata": {},
   "outputs": [
    {
     "data": {
      "text/html": [
       "<div>\n",
       "<style scoped>\n",
       "    .dataframe tbody tr th:only-of-type {\n",
       "        vertical-align: middle;\n",
       "    }\n",
       "\n",
       "    .dataframe tbody tr th {\n",
       "        vertical-align: top;\n",
       "    }\n",
       "\n",
       "    .dataframe thead th {\n",
       "        text-align: right;\n",
       "    }\n",
       "</style>\n",
       "<table border=\"1\" class=\"dataframe\">\n",
       "  <thead>\n",
       "    <tr style=\"text-align: right;\">\n",
       "      <th></th>\n",
       "      <th>Population</th>\n",
       "      <th>Violent</th>\n",
       "      <th>Property</th>\n",
       "      <th>Murder</th>\n",
       "      <th>Forcible_Rape</th>\n",
       "      <th>Robbery</th>\n",
       "      <th>Aggravated_assault</th>\n",
       "      <th>Burglary</th>\n",
       "      <th>Larceny_Theft</th>\n",
       "      <th>Vehicle_Theft</th>\n",
       "    </tr>\n",
       "    <tr>\n",
       "      <th>Year</th>\n",
       "      <th></th>\n",
       "      <th></th>\n",
       "      <th></th>\n",
       "      <th></th>\n",
       "      <th></th>\n",
       "      <th></th>\n",
       "      <th></th>\n",
       "      <th></th>\n",
       "      <th></th>\n",
       "      <th></th>\n",
       "    </tr>\n",
       "  </thead>\n",
       "  <tbody>\n",
       "    <tr>\n",
       "      <th>1960-01-01</th>\n",
       "      <td>201385000.0</td>\n",
       "      <td>4134930</td>\n",
       "      <td>45160900</td>\n",
       "      <td>106180</td>\n",
       "      <td>236720</td>\n",
       "      <td>1633510</td>\n",
       "      <td>2158520</td>\n",
       "      <td>13321100</td>\n",
       "      <td>26547700</td>\n",
       "      <td>5292100</td>\n",
       "    </tr>\n",
       "    <tr>\n",
       "      <th>1970-01-01</th>\n",
       "      <td>220099000.0</td>\n",
       "      <td>9607930</td>\n",
       "      <td>91383800</td>\n",
       "      <td>192230</td>\n",
       "      <td>554570</td>\n",
       "      <td>4159020</td>\n",
       "      <td>4702120</td>\n",
       "      <td>28486000</td>\n",
       "      <td>53157800</td>\n",
       "      <td>9739900</td>\n",
       "    </tr>\n",
       "    <tr>\n",
       "      <th>1980-01-01</th>\n",
       "      <td>248239000.0</td>\n",
       "      <td>14074328</td>\n",
       "      <td>117048900</td>\n",
       "      <td>206439</td>\n",
       "      <td>865639</td>\n",
       "      <td>5383109</td>\n",
       "      <td>7619130</td>\n",
       "      <td>33073494</td>\n",
       "      <td>72040253</td>\n",
       "      <td>11935411</td>\n",
       "    </tr>\n",
       "    <tr>\n",
       "      <th>1990-01-01</th>\n",
       "      <td>272690813.0</td>\n",
       "      <td>17527048</td>\n",
       "      <td>119053499</td>\n",
       "      <td>211664</td>\n",
       "      <td>998827</td>\n",
       "      <td>5748930</td>\n",
       "      <td>10568963</td>\n",
       "      <td>26750015</td>\n",
       "      <td>77679366</td>\n",
       "      <td>14624418</td>\n",
       "    </tr>\n",
       "    <tr>\n",
       "      <th>2000-01-01</th>\n",
       "      <td>307006550.0</td>\n",
       "      <td>13968056</td>\n",
       "      <td>100944369</td>\n",
       "      <td>163068</td>\n",
       "      <td>922499</td>\n",
       "      <td>4230366</td>\n",
       "      <td>8652124</td>\n",
       "      <td>21565176</td>\n",
       "      <td>67970291</td>\n",
       "      <td>11412834</td>\n",
       "    </tr>\n",
       "    <tr>\n",
       "      <th>2010-01-01</th>\n",
       "      <td>318857056.0</td>\n",
       "      <td>6072017</td>\n",
       "      <td>44095950</td>\n",
       "      <td>72867</td>\n",
       "      <td>421059</td>\n",
       "      <td>1749809</td>\n",
       "      <td>3764142</td>\n",
       "      <td>10125170</td>\n",
       "      <td>30401698</td>\n",
       "      <td>3569080</td>\n",
       "    </tr>\n",
       "    <tr>\n",
       "      <th>2020-01-01</th>\n",
       "      <td>NaN</td>\n",
       "      <td>0</td>\n",
       "      <td>0</td>\n",
       "      <td>0</td>\n",
       "      <td>0</td>\n",
       "      <td>0</td>\n",
       "      <td>0</td>\n",
       "      <td>0</td>\n",
       "      <td>0</td>\n",
       "      <td>0</td>\n",
       "    </tr>\n",
       "  </tbody>\n",
       "</table>\n",
       "</div>"
      ],
      "text/plain": [
       "             Population   Violent   Property  Murder  Forcible_Rape  Robbery  \\\n",
       "Year                                                                           \n",
       "1960-01-01  201385000.0   4134930   45160900  106180         236720  1633510   \n",
       "1970-01-01  220099000.0   9607930   91383800  192230         554570  4159020   \n",
       "1980-01-01  248239000.0  14074328  117048900  206439         865639  5383109   \n",
       "1990-01-01  272690813.0  17527048  119053499  211664         998827  5748930   \n",
       "2000-01-01  307006550.0  13968056  100944369  163068         922499  4230366   \n",
       "2010-01-01  318857056.0   6072017   44095950   72867         421059  1749809   \n",
       "2020-01-01          NaN         0          0       0              0        0   \n",
       "\n",
       "            Aggravated_assault  Burglary  Larceny_Theft  Vehicle_Theft  \n",
       "Year                                                                    \n",
       "1960-01-01             2158520  13321100       26547700        5292100  \n",
       "1970-01-01             4702120  28486000       53157800        9739900  \n",
       "1980-01-01             7619130  33073494       72040253       11935411  \n",
       "1990-01-01            10568963  26750015       77679366       14624418  \n",
       "2000-01-01             8652124  21565176       67970291       11412834  \n",
       "2010-01-01             3764142  10125170       30401698        3569080  \n",
       "2020-01-01                   0         0              0              0  "
      ]
     },
     "execution_count": 29,
     "metadata": {},
     "output_type": "execute_result"
    }
   ],
   "source": [
    "crime_decade = crime.resample('10AS').sum()\n",
    "crime_decade['Population'] = crime.resample('10AS').max()\n",
    "crime_decade"
   ]
  },
  {
   "cell_type": "markdown",
   "metadata": {},
   "source": [
    "### Step 9. What is the mos dangerous decade to live in the US?"
   ]
  },
  {
   "cell_type": "code",
   "execution_count": 33,
   "metadata": {},
   "outputs": [],
   "source": [
    "crime_decade['Rate'] = crime_decade.apply(lambda row: row['Violent':'Vehicle_Theft'].sum() / row['Population'], axis=1)"
   ]
  },
  {
   "cell_type": "code",
   "execution_count": 35,
   "metadata": {},
   "outputs": [
    {
     "data": {
      "text/plain": [
       "Year\n",
       "1980-01-01    1.056428\n",
       "1990-01-01    1.001731\n",
       "1970-01-01    0.917693\n",
       "2000-01-01    0.748612\n",
       "1960-01-01    0.489568\n",
       "2010-01-01    0.314473\n",
       "2020-01-01         NaN\n",
       "Name: Rate, dtype: float64"
      ]
     },
     "execution_count": 35,
     "metadata": {},
     "output_type": "execute_result"
    }
   ],
   "source": [
    "crime_decade['Rate'].sort_values(ascending = False)"
   ]
  },
  {
   "cell_type": "code",
   "execution_count": null,
   "metadata": {
    "collapsed": true
   },
   "outputs": [],
   "source": []
  }
 ],
 "metadata": {
  "anaconda-cloud": {},
  "kernelspec": {
   "display_name": "py36",
   "language": "python",
   "name": "py36"
  },
  "language_info": {
   "codemirror_mode": {
    "name": "ipython",
    "version": 3
   },
   "file_extension": ".py",
   "mimetype": "text/x-python",
   "name": "python",
   "nbconvert_exporter": "python",
   "pygments_lexer": "ipython3",
   "version": "3.6.3"
  }
 },
 "nbformat": 4,
 "nbformat_minor": 1
}
